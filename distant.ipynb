{
  "nbformat": 4,
  "nbformat_minor": 0,
  "metadata": {
    "colab": {
      "provenance": [],
      "gpuType": "T4"
    },
    "kernelspec": {
      "name": "python3",
      "display_name": "Python 3"
    },
    "language_info": {
      "name": "python"
    },
    "accelerator": "GPU"
  },
  "cells": [
    {
      "cell_type": "code",
      "source": [
        "from google.colab import drive\n",
        "drive.mount('/content/drive')"
      ],
      "metadata": {
        "colab": {
          "base_uri": "https://localhost:8080/"
        },
        "id": "FxDx0mhPVidv",
        "outputId": "65c8af32-6ea4-418f-f421-42e1e837ecba"
      },
      "execution_count": null,
      "outputs": [
        {
          "output_type": "stream",
          "name": "stdout",
          "text": [
            "Drive already mounted at /content/drive; to attempt to forcibly remount, call drive.mount(\"/content/drive\", force_remount=True).\n"
          ]
        }
      ]
    },
    {
      "cell_type": "code",
      "execution_count": null,
      "metadata": {
        "id": "_19Fo30OVoDD"
      },
      "outputs": [],
      "source": [
        "!pip install -q tqdm\n",
        "\n",
        "import json\n",
        "import torch\n",
        "import torch.nn as nn\n",
        "import torch.optim as optim\n",
        "import torch.nn.functional as F\n",
        "import numpy as np\n",
        "import random\n",
        "import matplotlib.pyplot as plt\n",
        "from torch.utils.data import Dataset, DataLoader\n",
        "from sklearn.metrics import precision_recall_fscore_support\n",
        "from tqdm import tqdm\n",
        "import os"
      ]
    },
    {
      "cell_type": "code",
      "source": [
        "def load_types(filepath):\n",
        "    with open(filepath, 'r', encoding='utf-8') as f:\n",
        "        types = [line.strip() for line in f]\n",
        "    return types\n",
        "\n",
        "type_list = load_types('/content/drive/MyDrive/mini/release/ontology/types.txt')\n",
        "type2id = {t: i for i, t in enumerate(type_list)}\n",
        "id2type = {i: t for t, i in type2id.items()}\n",
        "\n",
        "# Load char vocab\n",
        "def load_char_vocab(filepath):\n",
        "    with open(filepath, 'r', encoding='utf-8') as f:\n",
        "        chars = [line.strip() for line in f]\n",
        "    return {ch: idx for idx, ch in enumerate(chars)}\n",
        "\n",
        "char2idx = load_char_vocab('/content/drive/MyDrive/mini/release/ontology/char_vocab.english.txt')\n"
      ],
      "metadata": {
        "id": "noi3ZqfAXagD"
      },
      "execution_count": null,
      "outputs": []
    },
    {
      "cell_type": "code",
      "source": [
        "def load_jsonl(filepath, supervision_type,max_samples=None):\n",
        "    data = []\n",
        "    with open(filepath, 'r', encoding='utf-8') as f:\n",
        "        for i,line in enumerate(f):\n",
        "          if max_samples and i>=max_samples:\n",
        "            break;\n",
        "          else:\n",
        "            ex = json.loads(line)\n",
        "            ex['supervision'] = supervision_type\n",
        "            data.append(ex)\n",
        "    return data\n",
        "\n",
        "el_train = load_jsonl('/content/drive/MyDrive/mini/release/distant_supervision/el_train.json', supervision_type='kb',max_samples=500000)\n",
        "headword_train = load_jsonl('/content/drive/MyDrive/mini/release/distant_supervision/headword_train.json', supervision_type='head',max_samples=50000)\n",
        "\n",
        "train_data = el_train + headword_train\n",
        "\n",
        "dev_data = load_jsonl('/content/drive/MyDrive/mini/release/distant_supervision/el_dev.json', supervision_type='kb')\n",
        "\n",
        "print(f\"Train examples: {len(train_data)}\")\n",
        "print(f\"Validation examples: {len(dev_data)}\")\n"
      ],
      "metadata": {
        "colab": {
          "base_uri": "https://localhost:8080/"
        },
        "id": "d5blBx1QdJLA",
        "outputId": "54ce8385-a56b-421e-e42c-ba86939cd632"
      },
      "execution_count": null,
      "outputs": [
        {
          "output_type": "stream",
          "name": "stdout",
          "text": [
            "Train examples: 550000\n",
            "Validation examples: 30854\n"
          ]
        }
      ]
    },
    {
      "cell_type": "code",
      "source": [
        "all_chars = set()\n",
        "for item in train_data + dev_data:\n",
        "    for word in item['left_context_token'] + item['right_context_token'] + item['mention_span'].split():\n",
        "        all_chars.update(word)\n",
        "\n",
        "char2idx = {c: i+2 for i, c in enumerate(sorted(all_chars))}\n",
        "char2idx['<PAD>'] = 0\n",
        "char2idx['<UNK>'] = 1\n"
      ],
      "metadata": {
        "id": "DGnoU1cDgg3c"
      },
      "execution_count": null,
      "outputs": []
    },
    {
      "cell_type": "code",
      "source": [
        "def build_vocab(datasets):\n",
        "    vocab = set()\n",
        "    for data in datasets:\n",
        "        for ex in data:\n",
        "            vocab.update(ex['left_context_token'])\n",
        "            vocab.update(ex['right_context_token'])\n",
        "            if 'mention_span' in ex:\n",
        "                vocab.update(ex['mention_span'].split())\n",
        "    return vocab\n",
        "\n",
        "vocab = ['<PAD>', '<UNK>'] + list(build_vocab([train_data, dev_data]))\n",
        "word2idx = {w: i for i, w in enumerate(vocab)}\n",
        "\n",
        "def load_glove(filepath, word2idx, emb_dim=300):\n",
        "    embeddings = np.random.uniform(-0.1, 0.1, (len(word2idx), emb_dim))\n",
        "    with open(filepath, 'r', encoding='utf-8') as f:\n",
        "        for line in f:\n",
        "            parts = line.strip().split()\n",
        "            word = parts[0]\n",
        "            if word in word2idx:\n",
        "                embeddings[word2idx[word]] = np.array(list(map(float, parts[1:])))\n",
        "    return torch.tensor(embeddings, dtype=torch.float)\n",
        "\n",
        "glove_path = '/content/drive/MyDrive/mini/release/glove.6B.300d.txt'\n",
        "embedding_matrix = load_glove(glove_path, word2idx)\n"
      ],
      "metadata": {
        "id": "8W2HDWWodXAi"
      },
      "execution_count": null,
      "outputs": []
    },
    {
      "cell_type": "code",
      "source": [
        "class EntityTypingDataset(Dataset):\n",
        "    def __init__(self, data, word2idx, char2idx, type2id, max_len=128, max_char_len=16):\n",
        "        self.data = data\n",
        "        self.word2idx = word2idx\n",
        "        self.char2idx = char2idx\n",
        "        self.type2id = type2id\n",
        "        self.max_len = max_len\n",
        "        self.max_char_len = max_char_len\n",
        "\n",
        "    def __len__(self):\n",
        "        return len(self.data)\n",
        "\n",
        "    def encode_tokens(self, tokens):\n",
        "        token_ids = [self.word2idx.get(tok, self.word2idx['<UNK>']) for tok in tokens]\n",
        "        if len(token_ids) > self.max_len:\n",
        "            token_ids = token_ids[:self.max_len]\n",
        "        else:\n",
        "            token_ids += [self.word2idx['<PAD>']] * (self.max_len - len(token_ids))\n",
        "        return token_ids\n",
        "\n",
        "    def encode_chars(self, word):\n",
        "        chars = [self.char2idx.get(c, self.char2idx['<UNK>']) for c in word]\n",
        "        if len(chars) > self.max_char_len:\n",
        "            chars = chars[:self.max_char_len]\n",
        "        else:\n",
        "            chars += [self.char2idx['<PAD>']] * (self.max_char_len - len(chars))\n",
        "        return chars\n",
        "\n",
        "    def __getitem__(self, idx):\n",
        "        ex = self.data[idx]\n",
        "        left = ex['left_context_token']\n",
        "        mention = ex['mention_span'].split()\n",
        "        right = ex['right_context_token']\n",
        "\n",
        "        tokens = left + mention + right\n",
        "        location = [0]*len(left) + [1]*len(mention) + [2]*len(right)\n",
        "\n",
        "        token_ids = self.encode_tokens(tokens)\n",
        "        location_ids = location[:self.max_len] + [0]*(self.max_len - len(location))\n",
        "\n",
        "        mention_word = ' '.join(mention)\n",
        "        char_ids = self.encode_chars(mention_word)\n",
        "\n",
        "        label = torch.zeros(len(self.type2id))\n",
        "        for y in ex['y_str']:\n",
        "            if y in self.type2id:\n",
        "                label[self.type2id[y]] = 1.0\n",
        "\n",
        "        supervision = ex['supervision']\n",
        "\n",
        "        return {\n",
        "            'tokens': torch.tensor(token_ids, dtype=torch.long),\n",
        "            'locations': torch.tensor(location_ids, dtype=torch.long),\n",
        "            'chars': torch.tensor(char_ids, dtype=torch.long),\n",
        "            'label': label,\n",
        "            'supervision': supervision\n",
        "        }\n"
      ],
      "metadata": {
        "id": "9t3M5fYZerzh"
      },
      "execution_count": null,
      "outputs": []
    },
    {
      "cell_type": "code",
      "source": [
        "class EntityTypingModel(nn.Module):\n",
        "    def __init__(self, embedding_matrix, num_types, char_vocab_size, char_emb_dim=50, char_cnn_out=50, max_char_len=16, hidden_size=256, loc_emb_size=32):\n",
        "        super().__init__()\n",
        "        vocab_size, word_emb_dim = embedding_matrix.shape\n",
        "\n",
        "        # Word Embedding\n",
        "        self.word_embed = nn.Embedding.from_pretrained(embedding_matrix, freeze=False)\n",
        "\n",
        "        # Location Embedding\n",
        "        self.loc_embed = nn.Embedding(3, loc_emb_size)\n",
        "\n",
        "        # Character Embedding\n",
        "        self.char_embed = nn.Embedding(char_vocab_size, char_emb_dim)\n",
        "        self.char_cnn = nn.Conv1d(in_channels=char_emb_dim, out_channels=char_cnn_out, kernel_size=3, padding=1)\n",
        "\n",
        "        # LSTM\n",
        "        self.bilstm = nn.LSTM(word_emb_dim + loc_emb_size, hidden_size, bidirectional=True, batch_first=True)\n",
        "\n",
        "        # Attention\n",
        "        self.Wa = nn.Linear(hidden_size*2, hidden_size)\n",
        "        self.Ua = nn.Linear(hidden_size, 1)\n",
        "\n",
        "        # Type prediction\n",
        "        self.fc = nn.Linear(hidden_size*2 + char_cnn_out, num_types)\n",
        "\n",
        "    def forward(self, tokens, locations, chars):\n",
        "        word_emb = self.word_embed(tokens)\n",
        "        loc_emb = self.loc_embed(locations)\n",
        "        x = torch.cat([word_emb, loc_emb], dim=-1)\n",
        "\n",
        "        lstm_out, _ = self.bilstm(x)\n",
        "\n",
        "        # Attention\n",
        "        u = torch.relu(self.Wa(lstm_out))\n",
        "        att = torch.softmax(self.Ua(u).squeeze(-1), dim=1)\n",
        "        context = torch.sum(att.unsqueeze(-1) * lstm_out, dim=1)\n",
        "\n",
        "        # Char CNN over mention\n",
        "        char_emb = self.char_embed(chars)\n",
        "        char_emb = char_emb.permute(0, 2, 1)\n",
        "        char_feat = self.char_cnn(char_emb)\n",
        "        char_feat, _ = torch.max(char_feat, dim=2)\n",
        "\n",
        "        # Final representation\n",
        "        final = torch.cat([context, char_feat], dim=-1)\n",
        "\n",
        "        logits = self.fc(final)\n",
        "        return logits\n"
      ],
      "metadata": {
        "id": "KFAL9q9ee8b1"
      },
      "execution_count": null,
      "outputs": []
    },
    {
      "cell_type": "code",
      "source": [
        "train_dataset = EntityTypingDataset(train_data, word2idx, char2idx, type2id)\n",
        "dev_dataset = EntityTypingDataset(dev_data, word2idx, char2idx, type2id)\n",
        "\n",
        "train_loader = DataLoader(train_dataset, batch_size=64, shuffle=True)\n",
        "dev_loader = DataLoader(dev_dataset, batch_size=64)\n",
        "\n",
        "device = torch.device('cuda' if torch.cuda.is_available() else 'cpu')\n",
        "\n",
        "model = EntityTypingModel(embedding_matrix, num_types=len(type2id), char_vocab_size=len(char2idx)).to(device)\n",
        "\n",
        "criterion = nn.BCEWithLogitsLoss()\n",
        "optimizer = optim.Adam(model.parameters(), lr=0.001)"
      ],
      "metadata": {
        "id": "BXRt3svKe_RP"
      },
      "execution_count": null,
      "outputs": []
    },
    {
      "cell_type": "code",
      "source": [
        "def train_model(model, train_loader, dev_loader, epochs=20):\n",
        "    train_losses, val_losses = [], []\n",
        "\n",
        "    for epoch in range(epochs):\n",
        "        model.train()\n",
        "        running_loss = 0.0\n",
        "\n",
        "        for batch in tqdm(train_loader):\n",
        "            tokens = batch['tokens'].to(device)\n",
        "            locations = batch['locations'].to(device)\n",
        "            chars = batch['chars'].to(device)\n",
        "            labels = batch['label'].to(device)\n",
        "            supervision = batch['supervision']\n",
        "\n",
        "            optimizer.zero_grad()\n",
        "            logits = model(tokens, locations, chars)\n",
        "            criterion = nn.BCEWithLogitsLoss(reduction='none')\n",
        "\n",
        "            loss = criterion(logits, labels)\n",
        "\n",
        "            weights = torch.ones(logits.size(0)).to(device)\n",
        "            for i, s in enumerate(supervision):\n",
        "               if s == 'head':\n",
        "                   weights[i] = 0.5\n",
        "\n",
        "            loss = (loss.mean(dim=1) * weights).mean()\n",
        "\n",
        "            loss.backward()\n",
        "            optimizer.step()\n",
        "\n",
        "            running_loss += loss.item()\n",
        "\n",
        "        avg_train_loss = running_loss / len(train_loader)\n",
        "        train_losses.append(avg_train_loss)\n",
        "\n",
        "        val_loss = evaluate(model, dev_loader)\n",
        "        val_losses.append(val_loss)\n",
        "\n",
        "        print(f\"Epoch {epoch+1}/{epochs} - Train Loss: {avg_train_loss:.4f} - Val Loss: {val_loss:.4f}\")\n",
        "    torch.save(model.state_dict(), '/content/drive/MyDrive/mini/entity_model.pt')\n",
        "    return train_losses, val_losses"
      ],
      "metadata": {
        "id": "9YNajBPlfCnd"
      },
      "execution_count": null,
      "outputs": []
    },
    {
      "cell_type": "code",
      "source": [
        "train_losses, val_losses = train_model(model, train_loader, dev_loader, epochs=10)"
      ],
      "metadata": {
        "colab": {
          "base_uri": "https://localhost:8080/"
        },
        "id": "r1HJz_rGfFxB",
        "outputId": "061b0e9b-e29d-4b29-ae65-202f50e1a55b"
      },
      "execution_count": null,
      "outputs": [
        {
          "metadata": {
            "tags": null
          },
          "name": "stderr",
          "output_type": "stream",
          "text": [
            "100%|██████████| 8594/8594 [11:03<00:00, 12.95it/s]\n"
          ]
        },
        {
          "metadata": {
            "tags": null
          },
          "name": "stdout",
          "output_type": "stream",
          "text": [
            "Epoch 1/10 - Train Loss: 0.0011 - Val Loss: 0.0007\n"
          ]
        },
        {
          "metadata": {
            "tags": null
          },
          "name": "stderr",
          "output_type": "stream",
          "text": [
            "100%|██████████| 8594/8594 [10:59<00:00, 13.04it/s]\n"
          ]
        },
        {
          "metadata": {
            "tags": null
          },
          "name": "stdout",
          "output_type": "stream",
          "text": [
            "Epoch 2/10 - Train Loss: 0.0004 - Val Loss: 0.0005\n"
          ]
        },
        {
          "metadata": {
            "tags": null
          },
          "name": "stderr",
          "output_type": "stream",
          "text": [
            "100%|██████████| 8594/8594 [10:55<00:00, 13.10it/s]\n"
          ]
        },
        {
          "metadata": {
            "tags": null
          },
          "name": "stdout",
          "output_type": "stream",
          "text": [
            "Epoch 3/10 - Train Loss: 0.0002 - Val Loss: 0.0005\n"
          ]
        },
        {
          "metadata": {
            "tags": null
          },
          "name": "stderr",
          "output_type": "stream",
          "text": [
            "100%|██████████| 8594/8594 [10:58<00:00, 13.05it/s]\n"
          ]
        },
        {
          "metadata": {
            "tags": null
          },
          "name": "stdout",
          "output_type": "stream",
          "text": [
            "Epoch 4/10 - Train Loss: 0.0002 - Val Loss: 0.0004\n"
          ]
        },
        {
          "metadata": {
            "tags": null
          },
          "name": "stderr",
          "output_type": "stream",
          "text": [
            "100%|██████████| 8594/8594 [10:57<00:00, 13.08it/s]\n"
          ]
        },
        {
          "metadata": {
            "tags": null
          },
          "name": "stdout",
          "output_type": "stream",
          "text": [
            "Epoch 5/10 - Train Loss: 0.0001 - Val Loss: 0.0004\n"
          ]
        },
        {
          "metadata": {
            "tags": null
          },
          "name": "stderr",
          "output_type": "stream",
          "text": [
            "100%|██████████| 8594/8594 [10:58<00:00, 13.06it/s]\n"
          ]
        },
        {
          "metadata": {
            "tags": null
          },
          "name": "stdout",
          "output_type": "stream",
          "text": [
            "Epoch 6/10 - Train Loss: 0.0001 - Val Loss: 0.0005\n"
          ]
        },
        {
          "output_type": "stream",
          "name": "stderr",
          "text": [
            "100%|██████████| 8594/8594 [10:58<00:00, 13.05it/s]\n"
          ]
        },
        {
          "output_type": "stream",
          "name": "stdout",
          "text": [
            "Epoch 7/10 - Train Loss: 0.0001 - Val Loss: 0.0005\n"
          ]
        },
        {
          "output_type": "stream",
          "name": "stderr",
          "text": [
            "100%|██████████| 8594/8594 [10:56<00:00, 13.08it/s]\n"
          ]
        },
        {
          "output_type": "stream",
          "name": "stdout",
          "text": [
            "Epoch 8/10 - Train Loss: 0.0001 - Val Loss: 0.0005\n"
          ]
        },
        {
          "output_type": "stream",
          "name": "stderr",
          "text": [
            "100%|██████████| 8594/8594 [10:55<00:00, 13.10it/s]\n"
          ]
        },
        {
          "output_type": "stream",
          "name": "stdout",
          "text": [
            "Epoch 9/10 - Train Loss: 0.0000 - Val Loss: 0.0006\n"
          ]
        },
        {
          "output_type": "stream",
          "name": "stderr",
          "text": [
            "100%|██████████| 8594/8594 [10:55<00:00, 13.10it/s]\n"
          ]
        },
        {
          "output_type": "stream",
          "name": "stdout",
          "text": [
            "Epoch 10/10 - Train Loss: 0.0000 - Val Loss: 0.0006\n"
          ]
        }
      ]
    },
    {
      "cell_type": "code",
      "source": [
        "plt.plot(train_losses, label='Train Loss')\n",
        "plt.plot(val_losses, label='Validation Loss')\n",
        "plt.xlabel('Epochs')\n",
        "plt.ylabel('Loss')\n",
        "plt.legend()\n",
        "plt.title('Training vs Validation Loss')\n",
        "plt.show()"
      ],
      "metadata": {
        "id": "lgMsPBSifIRt",
        "colab": {
          "base_uri": "https://localhost:8080/",
          "height": 472
        },
        "outputId": "26ee7132-db4a-40e7-efa4-c03806e20293"
      },
      "execution_count": null,
      "outputs": [
        {
          "output_type": "display_data",
          "data": {
            "text/plain": [
              "<Figure size 640x480 with 1 Axes>"
            ],
            "image/png": "[encoded data removed]"
          },
          "metadata": {}
        }
      ]
    },
    {
      "cell_type": "code",
      "source": [
        "model = EntityTypingModel(embedding_matrix, num_types=len(type2id), char_vocab_size=len(char2idx)).to(device)\n",
        "\n",
        "model.load_state_dict(torch.load('/content/drive/MyDrive/mini/entity_model.pt', map_location=device))\n",
        "model.eval()"
      ],
      "metadata": {
        "colab": {
          "base_uri": "https://localhost:8080/"
        },
        "id": "n_C6UY3t2Hrd",
        "outputId": "65c08c9d-62d0-40ef-d981-39903a090074"
      },
      "execution_count": null,
      "outputs": [
        {
          "output_type": "execute_result",
          "data": {
            "text/plain": [
              "EntityTypingModel(\n",
              "  (word_embed): Embedding(417449, 300)\n",
              "  (loc_embed): Embedding(3, 32)\n",
              "  (char_embed): Embedding(88, 50)\n",
              "  (char_cnn): Conv1d(50, 50, kernel_size=(3,), stride=(1,), padding=(1,))\n",
              "  (bilstm): LSTM(332, 256, batch_first=True, bidirectional=True)\n",
              "  (Wa): Linear(in_features=512, out_features=256, bias=True)\n",
              "  (Ua): Linear(in_features=256, out_features=1, bias=True)\n",
              "  (fc): Linear(in_features=562, out_features=10331, bias=True)\n",
              ")"
            ]
          },
          "metadata": {},
          "execution_count": 13
        }
      ]
    },
    {
      "cell_type": "code",
      "source": [
        "def predict_user_input(model, sentence, mention, word2idx, char2idx, id2type, max_len=128, max_char_len=16, threshold=0.5):\n",
        "    model.eval()\n",
        "\n",
        "    tokens = sentence.split()\n",
        "    mention_tokens = mention.split()\n",
        "\n",
        "    try:\n",
        "        start_idx = tokens.index(mention_tokens[0])\n",
        "        end_idx = start_idx + len(mention_tokens) - 1\n",
        "    except ValueError:\n",
        "        start_idx = 0\n",
        "        end_idx = 0\n",
        "\n",
        "    left = tokens[:start_idx]\n",
        "    right = tokens[end_idx + 1:]\n",
        "\n",
        "    input_tokens = left + mention_tokens + right\n",
        "    location_ids = [0]*len(left) + [1]*len(mention_tokens) + [2]*len(right)\n",
        "\n",
        "    token_ids = [word2idx.get(tok, word2idx['<UNK>']) for tok in input_tokens]\n",
        "    if len(token_ids) > max_len:\n",
        "        token_ids = token_ids[:max_len]\n",
        "        location_ids = location_ids[:max_len]\n",
        "    else:\n",
        "        token_ids += [word2idx['<PAD>']] * (max_len - len(token_ids))\n",
        "        location_ids += [0] * (max_len - len(location_ids))\n",
        "\n",
        "    mention_text = ' '.join(mention_tokens)\n",
        "    char_ids = [char2idx.get(c, char2idx['<UNK>']) for c in mention_text]\n",
        "    if len(char_ids) > max_char_len:\n",
        "        char_ids = char_ids[:max_char_len]\n",
        "    else:\n",
        "        char_ids += [char2idx['<PAD>']] * (max_char_len - len(char_ids))\n",
        "\n",
        "    tokens_tensor = torch.tensor([token_ids], dtype=torch.long).to(device)\n",
        "    locations_tensor = torch.tensor([location_ids], dtype=torch.long).to(device)\n",
        "    chars_tensor = torch.tensor([char_ids], dtype=torch.long).to(device)\n",
        "\n",
        "    with torch.no_grad():\n",
        "        logits = model(tokens_tensor, locations_tensor, chars_tensor)\n",
        "        probs = torch.sigmoid(logits).squeeze(0)\n",
        "\n",
        "    predicted_indices = torch.where(probs >= threshold)[0].tolist()\n",
        "\n",
        "    predictions = [(id2type[idx], probs[idx].item()) for idx in predicted_indices]\n",
        "    predictions.sort(key=lambda x: -x[1])\n",
        "\n",
        "    return predictions"
      ],
      "metadata": {
        "id": "uVWW1NUMwI1n"
      },
      "execution_count": null,
      "outputs": []
    },
    {
      "cell_type": "code",
      "source": [
        "sentence = \"Microsoft was one of the first major tech companies to embrace cloud computing.\"\n",
        "mention = \"Microsoft\"\n",
        "predictions = predict_user_input(model, sentence, mention, word2idx, char2idx, id2type)\n",
        "\n",
        "print(f\"\\nMention: {mention}\\nPredicted Types:\")\n",
        "for label, score in predictions:\n",
        "    print(f\"{label} ({score:.4f})\")"
      ],
      "metadata": {
        "colab": {
          "base_uri": "https://localhost:8080/"
        },
        "id": "0cdpyLPkytgx",
        "outputId": "7b118799-c5cf-4cab-8f67-4aa360be55a4"
      },
      "execution_count": null,
      "outputs": [
        {
          "output_type": "stream",
          "name": "stdout",
          "text": [
            "\n",
            "Mention: Microsoft\n",
            "Predicted Types:\n",
            "company (0.9999)\n"
          ]
        }
      ]
    },
    {
      "cell_type": "code",
      "source": [
        "sentence = \"The new iPhone 13 is a great device.\"\n",
        "mention = \"iPhone 13\"\n",
        "predictions = predict_user_input(model, sentence, mention, word2idx, char2idx, id2type)\n",
        "\n",
        "print(f\"\\nMention: {mention}\\nPredicted Types:\")\n",
        "for label, score in predictions:\n",
        "    print(f\"{label} ({score:.4f})\")"
      ],
      "metadata": {
        "colab": {
          "base_uri": "https://localhost:8080/"
        },
        "id": "Tv8-PB4HPBiJ",
        "outputId": "d2431e28-c4a1-4627-b4ea-4f044429fdf3"
      },
      "execution_count": null,
      "outputs": [
        {
          "output_type": "stream",
          "name": "stdout",
          "text": [
            "\n",
            "Mention: iPhone 13\n",
            "Predicted Types:\n",
            "product (1.0000)\n",
            "car (0.9774)\n"
          ]
        }
      ]
    },
    {
      "cell_type": "code",
      "source": [
        "sentence = \"Paris is known for its beautiful architecture and culture.\"\n",
        "mention = \"Paris\"\n",
        "predictions = predict_user_input(model, sentence, mention, word2idx, char2idx, id2type)\n",
        "\n",
        "print(f\"\\nMention: {mention}\\nPredicted Types:\")\n",
        "for label, score in predictions:\n",
        "    print(f\"{label} ({score:.4f})\")"
      ],
      "metadata": {
        "colab": {
          "base_uri": "https://localhost:8080/"
        },
        "id": "iKrw2leNPQQD",
        "outputId": "d978e240-4a6e-4d9a-cf18-4022e4005116"
      },
      "execution_count": null,
      "outputs": [
        {
          "output_type": "stream",
          "name": "stdout",
          "text": [
            "\n",
            "Mention: Paris\n",
            "Predicted Types:\n",
            "city (0.9997)\n",
            "capital (0.9688)\n"
          ]
        }
      ]
    },
    {
      "cell_type": "code",
      "source": [
        "sentence = \"Tom Cruise acted in the film Mission Impossible.\"\n",
        "mention = \"Tom Cruise\"\n",
        "\n",
        "predictions = predict_user_input(model, sentence, mention, word2idx, char2idx, id2type)\n",
        "\n",
        "print(f\"\\nMention: {mention}\\nPredicted Types:\")\n",
        "for label, score in predictions:\n",
        "    print(f\"{label} ({score:.4f})\")"
      ],
      "metadata": {
        "colab": {
          "base_uri": "https://localhost:8080/"
        },
        "id": "cPuoPL-lPUaW",
        "outputId": "7c0975f5-5731-4a1f-f816-981903251d9d"
      },
      "execution_count": null,
      "outputs": [
        {
          "output_type": "stream",
          "name": "stdout",
          "text": [
            "\n",
            "Mention: Tom Cruise\n",
            "Predicted Types:\n",
            "actor (0.9998)\n",
            "producer (0.9824)\n"
          ]
        }
      ]
    },
    {
      "cell_type": "code",
      "source": [
        "sentence = \"Steve Jobs founded Apple in 1976.\"\n",
        "mention = \"Steve Jobs\"\n",
        "\n",
        "predictions = predict_user_input(model, sentence, mention, word2idx, char2idx, id2type)\n",
        "\n",
        "print(f\"\\nMention: {mention}\\nPredicted Types:\")\n",
        "for label, score in predictions:\n",
        "    print(f\"{label} ({score:.4f})\")"
      ],
      "metadata": {
        "colab": {
          "base_uri": "https://localhost:8080/"
        },
        "id": "_XyuvksoPdKI",
        "outputId": "af1828b5-b1c2-4f33-bef7-d26f4166cb62"
      },
      "execution_count": null,
      "outputs": [
        {
          "output_type": "stream",
          "name": "stdout",
          "text": [
            "\n",
            "Mention: Steve Jobs\n",
            "Predicted Types:\n",
            "designer (0.9983)\n",
            "businessman (0.9981)\n"
          ]
        }
      ]
    },
    {
      "cell_type": "code",
      "source": [
        "dev_dl = EntityTypingDataset(dev_data, word2idx, char2idx, type2id)"
      ],
      "metadata": {
        "id": "1H9jNH-l0ArC"
      },
      "execution_count": null,
      "outputs": []
    },
    {
      "cell_type": "code",
      "source": [
        "def predict_batch(model, loader,max_batches=10, threshold=0.5):\n",
        "    model.eval()\n",
        "    y_true = []\n",
        "    y_pred = []\n",
        "\n",
        "    with torch.no_grad():\n",
        "     for i, batch in enumerate(loader):\n",
        "        if i >= max_batches:\n",
        "            break\n",
        "\n",
        "        tokens = batch['tokens'].to(device)\n",
        "        locations = batch['locations'].to(device)\n",
        "        chars = batch['chars'].to(device)\n",
        "        labels = batch['label'].cpu().numpy()\n",
        "\n",
        "        logits = model(tokens, locations, chars)\n",
        "        probs = torch.sigmoid(logits).cpu().numpy()\n",
        "        preds = (probs >= threshold).astype(int)\n",
        "\n",
        "        y_true.append(labels)\n",
        "        y_pred.append(preds)\n",
        "\n",
        "    y_true = np.vstack(y_true)\n",
        "    y_pred = np.vstack(y_pred)\n",
        "\n",
        "    return y_true, y_pred\n",
        "\n"
      ],
      "metadata": {
        "id": "-JWKu4LqP1px"
      },
      "execution_count": null,
      "outputs": []
    },
    {
      "cell_type": "code",
      "source": [
        "y_true, y_pred = predict_batch(model, dev_loader)\n",
        "\n",
        "precision, recall, f1, _ = precision_recall_fscore_support(y_true, y_pred, average='micro')\n",
        "\n",
        "print(f\"Precision: {precision:.4f}\")\n",
        "print(f\"Recall:    {recall:.4f}\")\n",
        "print(f\"F1 Score:  {f1:.4f}\")"
      ],
      "metadata": {
        "colab": {
          "base_uri": "https://localhost:8080/"
        },
        "id": "YWoLECqZP-uy",
        "outputId": "fb65d976-2e48-4658-90e7-7212a3bc1c6e"
      },
      "execution_count": null,
      "outputs": [
        {
          "output_type": "stream",
          "name": "stdout",
          "text": [
            "Precision: 0.2582\n",
            "Recall:    0.0531\n",
            "F1 Score:  0.0881\n"
          ]
        }
      ]
    },
    {
      "cell_type": "code",
      "source": [],
      "metadata": {
        "id": "xwzJBO9HSjh3"
      },
      "execution_count": null,
      "outputs": []
    }
  ]
}